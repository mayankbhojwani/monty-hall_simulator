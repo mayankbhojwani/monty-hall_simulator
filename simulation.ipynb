{
 "cells": [
  {
   "cell_type": "markdown",
   "metadata": {},
   "source": [
    "# 🧠 Monty Hall Problem Simulation\n",
    "\n",
    "This notebook simulates the famous **Monty Hall Problem**, a probability puzzle that reveals counter-intuitive results. The goal is to observe the advantage of switching choices under various settings, including generalizing to **n doors**.\n",
    "\n",
    "We explore:\n",
    "- The probability of winning by switching vs staying\n",
    "- How probabilities converge with more simulations\n",
    "- Generalizing the problem for `n` doors\n"
   ]
  },
  {
   "cell_type": "markdown",
   "metadata": {},
   "source": [
    "## 📖 Problem Statement\n",
    "\n",
    "In the Monty Hall problem:\n",
    "- You are given `n` doors.\n",
    "- Behind one door is a prize, and the rest are empty.\n",
    "- You choose one door.\n",
    "- The host, who knows what’s behind the doors, opens `n - 2` other doors that do **not** contain the prize.\n",
    "- You are then offered a chance to switch your choice to the one remaining unopened door.\n",
    "\n",
    "**Question:** Should you switch?\n",
    "\n",
    "### 🧮 Theoretical Probabilities\n",
    "\n",
    "- **Staying with initial choice**: P(stay) = 1 / n  \n",
    "- **Switching after the host opens doors**: P(switch) = (n - 1) / n\n"
   ]
  },
  {
   "cell_type": "code",
   "execution_count": null,
   "metadata": {},
   "outputs": [],
   "source": [
    "import numpy as np\n",
    "import matplotlib.pyplot as plt\n",
    "import random \n"
   ]
  },
  {
   "cell_type": "code",
   "execution_count": null,
   "metadata": {},
   "outputs": [],
   "source": [
    "def switch_prob (iterations: int):\n",
    "    switch_loses=0\n",
    "    switch_wins=0\n",
    "    for j in range(0,iterations):   \n",
    "        car= random.randint(0,2)\n",
    "        x= np.zeros(3)\n",
    "        x[car]=1 \n",
    "        pick = random.randint(0,2)\n",
    "        switch = 1\n",
    "        if(car!=pick) and (switch==1):\n",
    "            switch_wins= switch_wins +1\n",
    "        else: switch_loses= switch_loses+1\n",
    "\n",
    "    return switch_wins/(switch_wins+switch_loses)\n",
    "\n"
   ]
  },
  {
   "cell_type": "code",
   "execution_count": null,
   "metadata": {},
   "outputs": [],
   "source": [
    "def stay_prob (iterations: int):\n",
    "    stay_wins=0\n",
    "    stay_losses=0\n",
    "    for j in range(0,iterations):   \n",
    "        car= random.randint(0,2)\n",
    "        x= np.zeros(3)\n",
    "        x[car]=1 \n",
    "        pick = random.randint(0,2)\n",
    "        switch = 0\n",
    "        if(car==pick) and (switch==0):\n",
    "            stay_wins= stay_wins +1\n",
    "        else:stay_losses= stay_losses+1\n",
    "\n",
    "    return stay_wins/(stay_wins+stay_losses)"
   ]
  },
  {
   "cell_type": "code",
   "execution_count": null,
   "metadata": {},
   "outputs": [],
   "source": [
    "result= np.zeros(7)\n",
    "for i in range (1,8):\n",
    "    iterations= 10**i\n",
    "    print(f\"The winning probability of switching in {iterations} iterations is {switch_prob(10**i)}\")\n",
    "    result[i-1]= switch_prob(iterations)"
   ]
  },
  {
   "cell_type": "code",
   "execution_count": null,
   "metadata": {},
   "outputs": [],
   "source": [
    "stay_result= np.zeros(7)\n",
    "for i in range (1,8):\n",
    "    iterations= 10**i\n",
    "    print(f\"The winning probability of staying in {iterations} iterations is {stay_prob(10**i)}\")\n",
    "    stay_result[i-1]= stay_prob(iterations)"
   ]
  },
  {
   "cell_type": "markdown",
   "metadata": {},
   "source": [
    "## 📈 Visualization of Simulation Results\n",
    "\n",
    "The following plot shows how the winning probabilities stabilize as the number of simulations increases.\n",
    "\n",
    "- The red dashed lines represent the theoretical probabilities for `P(switch)` and `P(stay)` in the 3-door case.\n",
    "- The x-axis is in logarithmic scale for better visibility across orders of magnitude.\n",
    "\n",
    "This visualization helps confirm the counter-intuitive nature of the Monty Hall problem: **switching consistently leads to a higher chance of winning.**\n"
   ]
  },
  {
   "cell_type": "code",
   "execution_count": null,
   "metadata": {},
   "outputs": [],
   "source": [
    "trials= [10**i for i in range(1,8)]\n",
    "stay_trials= [10**i for i in range(1,8)]\n",
    "\n",
    "plt.figure(figsize=(10,6))\n",
    "plt.plot(trials, result, marker='o', label='Switching Strategy')\n",
    "plt.plot(stay_trials, stay_result, marker='o', label='Staying Strategy')\n",
    "\n",
    "plt.axhline(y=2/3, color='red', linestyle='--', label='Theoretical Probability of winning' )\n",
    "plt.axhline(y=1/3, color='red', linestyle='--')\n",
    "plt.xscale('log')\n",
    "plt.xlabel(\"Number of Simulations (log scale)\")\n",
    "plt.ylabel(\"Winning Probability\")\n",
    "plt.title(\"Convergence of Winning Probability in the Monty Hall Problem\")\n",
    "plt.legend()\n",
    "plt.grid(True)\n",
    "plt.show()"
   ]
  },
  {
   "cell_type": "markdown",
   "metadata": {},
   "source": [
    "## 🌐 Generalizing to `n` Doors\n",
    "\n",
    "We extended the problem beyond 3 doors.  \n",
    "The simulation confirms the theoretical results:\n",
    "\n",
    "- **Staying** gives a probability of `1/n`\n",
    "- **Switching** gives a probability of `(n - 1)/n`\n",
    "\n",
    "As `n` increases, switching becomes **almost a guaranteed win**.\n"
   ]
  },
  {
   "cell_type": "code",
   "execution_count": null,
   "metadata": {},
   "outputs": [],
   "source": [
    "def switch_prob_general(n, iterations: int):\n",
    "    switch_loses=0\n",
    "    switch_wins=0\n",
    "    for i in range (0, iterations):\n",
    "        car= random.randint(0,n-1)\n",
    "        pick = random.randint(0,n-1)\n",
    "        if(car==pick):\n",
    "            switch_loses= switch_loses+1\n",
    "        else: switch_wins= switch_wins +1\n",
    "    return switch_wins/(switch_loses+switch_wins)"
   ]
  },
  {
   "cell_type": "code",
   "execution_count": null,
   "metadata": {},
   "outputs": [],
   "source": [
    "def stay_prob_general(n, iterations: int):\n",
    "    stay_loses=0\n",
    "    stay_wins=0\n",
    "    for i in range (0, iterations):\n",
    "        car= random.randint(0,n-1)\n",
    "        pick = random.randint(0,n-1)\n",
    "        if(car!=pick):\n",
    "            stay_loses= stay_loses+1\n",
    "        else: stay_wins= stay_wins +1\n",
    "    return stay_wins/(stay_loses+stay_wins)"
   ]
  },
  {
   "cell_type": "markdown",
   "metadata": {},
   "source": [
    "Let's see the result for n=4"
   ]
  },
  {
   "cell_type": "code",
   "execution_count": null,
   "metadata": {},
   "outputs": [],
   "source": [
    "result= np.zeros(7)\n",
    "for i in range (1,8):\n",
    "    iterations= 10**i\n",
    "    print(f\"The winning probability by switching in {iterations} iterations is {switch_prob_general(4, 10**i)}\")\n",
    "    result[i-1]= switch_prob_general(4, iterations)"
   ]
  },
  {
   "cell_type": "code",
   "execution_count": null,
   "metadata": {},
   "outputs": [],
   "source": [
    "stay_result= np.zeros(7)\n",
    "for i in range (1,8):\n",
    "    iterations= 10**i\n",
    "    print(f\"The winning probability by staying in {iterations} iterations is {stay_prob_general(4, 10**i)}\")\n",
    "    stay_result[i-1]= stay_prob_general(4, iterations)"
   ]
  },
  {
   "cell_type": "code",
   "execution_count": null,
   "metadata": {},
   "outputs": [],
   "source": [
    "trials= [10**i for i in range(1,8)]\n",
    "stay_trials= [10**i for i in range(1,8)]\n",
    "\n",
    "plt.figure(figsize=(10,6))\n",
    "plt.plot(trials, result, marker='o', label='Switching Strategy')\n",
    "plt.plot(stay_trials, stay_result, marker='o', label='Staying Strategy')\n",
    "\n",
    "plt.axhline(y=3/4, color='red', linestyle='--', label='Theoretical Probability of winning' )\n",
    "plt.axhline(y=1/4, color='red', linestyle='--')\n",
    "plt.xscale('log')\n",
    "plt.xlabel(\"Number of Simulations (log scale)\")\n",
    "plt.ylabel(\"Winning Probability\")\n",
    "plt.title(\"Convergence of Winning Probability in the Monty Hall Problem\")\n",
    "plt.legend()\n",
    "plt.grid(True)\n",
    "plt.show()"
   ]
  },
  {
   "cell_type": "markdown",
   "metadata": {},
   "source": [
    "Let's fix the number of iterations to 1000 and see how the probability varies as we vary n."
   ]
  },
  {
   "cell_type": "code",
   "execution_count": null,
   "metadata": {},
   "outputs": [],
   "source": [
    "switch_win_prob= np.zeros(8)\n",
    "stay_win_prob= np.zeros(8)\n",
    "for i in range(3,11):\n",
    "    switch_win_prob[i-3]= switch_prob_general(i, 1000)\n",
    "    print(f\"The winning probability by switching when (n={i}) is {switch_win_prob[i-3]}\")\n",
    "    stay_win_prob[i-3]= stay_prob_general(i, 1000) \n",
    "    print(f\"The winning probability by staying when (n={i}) is {stay_win_prob[i-3]}\") \n"
   ]
  },
  {
   "cell_type": "code",
   "execution_count": null,
   "metadata": {},
   "outputs": [],
   "source": [
    "plt.figure(figsize=(10,6))\n",
    "x= np.arange(3,11)\n",
    "y= (x-1)/x\n",
    "stay_y= 1-y\n",
    "plt.plot(x, y, color= 'green', label= 'Theoritical Value')\n",
    "plt.plot(x, stay_y, color= 'green', label= 'Theoritical Value')\n",
    "plt.plot(x, switch_win_prob, marker='o', label='Switching Strategy')\n",
    "plt.plot(x, stay_win_prob, marker='o', label='Staying Strategy')\n",
    "plt.xlabel(\"Number of Doors\")\n",
    "plt.ylabel(\"Winning Probability\")\n",
    "plt.title(\"Convergence of Winning Probability in the Monty Hall Problem\")\n",
    "plt.legend()\n",
    "plt.grid(True)\n",
    "plt.show()"
   ]
  },
  {
   "cell_type": "markdown",
   "metadata": {},
   "source": [
    "## ✅ Conclusion\n",
    "\n",
    "- Simulations confirm the counterintuitive result that **switching is always better**.\n",
    "- As the number of doors increases, the advantage of switching becomes more and more obvious.\n",
    "- Visualization and statistical results match the theoretical expectations.\n",
    "\n",
    "This notebook demonstrates how simulation can be a powerful tool for understanding probabilistic puzzles.\n"
   ]
  }
 ],
 "metadata": {
  "kernelspec": {
   "display_name": "venv",
   "language": "python",
   "name": "python3"
  },
  "language_info": {
   "codemirror_mode": {
    "name": "ipython",
    "version": 3
   },
   "file_extension": ".py",
   "mimetype": "text/x-python",
   "name": "python",
   "nbconvert_exporter": "python",
   "pygments_lexer": "ipython3",
   "version": "3.9.6"
  }
 },
 "nbformat": 4,
 "nbformat_minor": 2
}
